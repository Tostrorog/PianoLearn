{
  "nbformat": 4,
  "nbformat_minor": 0,
  "metadata": {
    "colab": {
      "name": "Multivariate Linear Regression Python.ipynb",
      "provenance": [],
      "collapsed_sections": [],
      "include_colab_link": true
    },
    "kernelspec": {
      "name": "python3",
      "display_name": "Python 3"
    },
    "accelerator": "GPU"
  },
  "cells": [
    {
      "cell_type": "markdown",
      "metadata": {
        "id": "view-in-github",
        "colab_type": "text"
      },
      "source": [
        "<a href=\"https://colab.research.google.com/github/Tostrorog/PianoLearn/blob/main/Multivariate_Linear_Regression_Python.ipynb\" target=\"_parent\"><img src=\"https://colab.research.google.com/assets/colab-badge.svg\" alt=\"Open In Colab\"/></a>"
      ]
    },
    {
      "metadata": {
        "id": "ON4WbEBvk9Z9"
      },
      "cell_type": "markdown",
      "source": [
        "# Multivariate Linear Regression\n",
        "## Predicting House Price from Size and Number of Bedrooms"
      ]
    },
    {
      "metadata": {
        "id": "RKxoZ5lknWll"
      },
      "cell_type": "markdown",
      "source": [
        "### Import Libraries"
      ]
    },
    {
      "metadata": {
        "id": "Lq6qDjhHnbak"
      },
      "cell_type": "code",
      "source": [
        "%matplotlib inline\n",
        "from mpl_toolkits.mplot3d import Axes3D\n",
        "import numpy as np\n",
        "import matplotlib.pyplot as plt\n",
        "from sklearn.preprocessing import normalize"
      ],
      "execution_count": 1,
      "outputs": []
    },
    {
      "metadata": {
        "id": "W5b_-H-zn3_O"
      },
      "cell_type": "markdown",
      "source": [
        "### Read Data"
      ]
    },
    {
      "metadata": {
        "id": "T1a23JYWn5oM"
      },
      "cell_type": "code",
      "source": [
        "data = np.genfromtxt('', delimiter=',')"
      ],
      "execution_count": null,
      "outputs": []
    },
    {
      "cell_type": "code",
      "source": [
        "!pip install -q xlrd\n",
        "\n",
        "import pandas as pd\n",
        "data = pd.read_excel('exported1.xlsx')\n",
        "data"
      ],
      "metadata": {
        "colab": {
          "base_uri": "https://localhost:8080/",
          "height": 1000
        },
        "id": "7cPEO4CRySjh",
        "outputId": "3a00b306-f1c0-4e3c-82ba-be99f2b05f5d"
      },
      "execution_count": 3,
      "outputs": [
        {
          "output_type": "execute_result",
          "data": {
            "text/html": [
              "\n",
              "  <div id=\"df-26ac6724-835c-4271-892d-52535acd5901\">\n",
              "    <div class=\"colab-df-container\">\n",
              "      <div>\n",
              "<style scoped>\n",
              "    .dataframe tbody tr th:only-of-type {\n",
              "        vertical-align: middle;\n",
              "    }\n",
              "\n",
              "    .dataframe tbody tr th {\n",
              "        vertical-align: top;\n",
              "    }\n",
              "\n",
              "    .dataframe thead th {\n",
              "        text-align: right;\n",
              "    }\n",
              "</style>\n",
              "<table border=\"1\" class=\"dataframe\">\n",
              "  <thead>\n",
              "    <tr style=\"text-align: right;\">\n",
              "      <th></th>\n",
              "      <th>X1(kloc)</th>\n",
              "      <th>X2</th>\n",
              "      <th>effort</th>\n",
              "    </tr>\n",
              "  </thead>\n",
              "  <tbody>\n",
              "    <tr>\n",
              "      <th>0</th>\n",
              "      <td>3.030</td>\n",
              "      <td>28.000</td>\n",
              "      <td>7.686</td>\n",
              "    </tr>\n",
              "    <tr>\n",
              "      <th>1</th>\n",
              "      <td>3.040</td>\n",
              "      <td>32.000</td>\n",
              "      <td>7.713</td>\n",
              "    </tr>\n",
              "    <tr>\n",
              "      <th>2</th>\n",
              "      <td>4.000</td>\n",
              "      <td>34.000</td>\n",
              "      <td>10.289</td>\n",
              "    </tr>\n",
              "    <tr>\n",
              "      <th>3</th>\n",
              "      <td>6.010</td>\n",
              "      <td>80.000</td>\n",
              "      <td>15.777</td>\n",
              "    </tr>\n",
              "    <tr>\n",
              "      <th>4</th>\n",
              "      <td>6.096</td>\n",
              "      <td>65.000</td>\n",
              "      <td>16.014</td>\n",
              "    </tr>\n",
              "    <tr>\n",
              "      <th>5</th>\n",
              "      <td>1.989</td>\n",
              "      <td>23.000</td>\n",
              "      <td>4.941</td>\n",
              "    </tr>\n",
              "    <tr>\n",
              "      <th>6</th>\n",
              "      <td>1.673</td>\n",
              "      <td>11.000</td>\n",
              "      <td>4.120</td>\n",
              "    </tr>\n",
              "    <tr>\n",
              "      <th>7</th>\n",
              "      <td>6.940</td>\n",
              "      <td>74.000</td>\n",
              "      <td>18.350</td>\n",
              "    </tr>\n",
              "    <tr>\n",
              "      <th>8</th>\n",
              "      <td>3.096</td>\n",
              "      <td>1460.000</td>\n",
              "      <td>7.862</td>\n",
              "    </tr>\n",
              "    <tr>\n",
              "      <th>9</th>\n",
              "      <td>5.011</td>\n",
              "      <td>605.000</td>\n",
              "      <td>13.036</td>\n",
              "    </tr>\n",
              "    <tr>\n",
              "      <th>10</th>\n",
              "      <td>15.080</td>\n",
              "      <td>688.000</td>\n",
              "      <td>41.451</td>\n",
              "    </tr>\n",
              "    <tr>\n",
              "      <th>11</th>\n",
              "      <td>10.380</td>\n",
              "      <td>215.000</td>\n",
              "      <td>28.004</td>\n",
              "    </tr>\n",
              "    <tr>\n",
              "      <th>12</th>\n",
              "      <td>4.007</td>\n",
              "      <td>255.000</td>\n",
              "      <td>10.308</td>\n",
              "    </tr>\n",
              "    <tr>\n",
              "      <th>13</th>\n",
              "      <td>6.023</td>\n",
              "      <td>462.000</td>\n",
              "      <td>15.813</td>\n",
              "    </tr>\n",
              "    <tr>\n",
              "      <th>14</th>\n",
              "      <td>10.380</td>\n",
              "      <td>448.000</td>\n",
              "      <td>28.004</td>\n",
              "    </tr>\n",
              "    <tr>\n",
              "      <th>15</th>\n",
              "      <td>6.125</td>\n",
              "      <td>776.000</td>\n",
              "      <td>16.094</td>\n",
              "    </tr>\n",
              "    <tr>\n",
              "      <th>16</th>\n",
              "      <td>6.998</td>\n",
              "      <td>200.000</td>\n",
              "      <td>18.511</td>\n",
              "    </tr>\n",
              "    <tr>\n",
              "      <th>17</th>\n",
              "      <td>2.986</td>\n",
              "      <td>132.000</td>\n",
              "      <td>7.569</td>\n",
              "    </tr>\n",
              "    <tr>\n",
              "      <th>18</th>\n",
              "      <td>17.025</td>\n",
              "      <td>36.000</td>\n",
              "      <td>47.082</td>\n",
              "    </tr>\n",
              "    <tr>\n",
              "      <th>19</th>\n",
              "      <td>10.205</td>\n",
              "      <td>770.000</td>\n",
              "      <td>27.508</td>\n",
              "    </tr>\n",
              "    <tr>\n",
              "      <th>20</th>\n",
              "      <td>25.589</td>\n",
              "      <td>140.000</td>\n",
              "      <td>72.222</td>\n",
              "    </tr>\n",
              "    <tr>\n",
              "      <th>21</th>\n",
              "      <td>8.798</td>\n",
              "      <td>810.000</td>\n",
              "      <td>23.540</td>\n",
              "    </tr>\n",
              "    <tr>\n",
              "      <th>22</th>\n",
              "      <td>8.007</td>\n",
              "      <td>450.000</td>\n",
              "      <td>21.323</td>\n",
              "    </tr>\n",
              "    <tr>\n",
              "      <th>23</th>\n",
              "      <td>4.022</td>\n",
              "      <td>635.000</td>\n",
              "      <td>10.348</td>\n",
              "    </tr>\n",
              "    <tr>\n",
              "      <th>24</th>\n",
              "      <td>15.714</td>\n",
              "      <td>150.000</td>\n",
              "      <td>5.987</td>\n",
              "    </tr>\n",
              "    <tr>\n",
              "      <th>25</th>\n",
              "      <td>27.678</td>\n",
              "      <td>41.060</td>\n",
              "      <td>10.265</td>\n",
              "    </tr>\n",
              "    <tr>\n",
              "      <th>26</th>\n",
              "      <td>14.619</td>\n",
              "      <td>22.356</td>\n",
              "      <td>5.589</td>\n",
              "    </tr>\n",
              "    <tr>\n",
              "      <th>27</th>\n",
              "      <td>18.672</td>\n",
              "      <td>28.224</td>\n",
              "      <td>7.056</td>\n",
              "    </tr>\n",
              "    <tr>\n",
              "      <th>28</th>\n",
              "      <td>48.910</td>\n",
              "      <td>70.616</td>\n",
              "      <td>17.654</td>\n",
              "    </tr>\n",
              "    <tr>\n",
              "      <th>29</th>\n",
              "      <td>46.115</td>\n",
              "      <td>66.768</td>\n",
              "      <td>16.692</td>\n",
              "    </tr>\n",
              "    <tr>\n",
              "      <th>30</th>\n",
              "      <td>54.463</td>\n",
              "      <td>78.232</td>\n",
              "      <td>19.558</td>\n",
              "    </tr>\n",
              "    <tr>\n",
              "      <th>31</th>\n",
              "      <td>25.680</td>\n",
              "      <td>38.232</td>\n",
              "      <td>9.558</td>\n",
              "    </tr>\n",
              "    <tr>\n",
              "      <th>32</th>\n",
              "      <td>3.851</td>\n",
              "      <td>6.276</td>\n",
              "      <td>1.569</td>\n",
              "    </tr>\n",
              "    <tr>\n",
              "      <th>33</th>\n",
              "      <td>25.054</td>\n",
              "      <td>165.000</td>\n",
              "      <td>9.336</td>\n",
              "    </tr>\n",
              "  </tbody>\n",
              "</table>\n",
              "</div>\n",
              "      <button class=\"colab-df-convert\" onclick=\"convertToInteractive('df-26ac6724-835c-4271-892d-52535acd5901')\"\n",
              "              title=\"Convert this dataframe to an interactive table.\"\n",
              "              style=\"display:none;\">\n",
              "        \n",
              "  <svg xmlns=\"http://www.w3.org/2000/svg\" height=\"24px\"viewBox=\"0 0 24 24\"\n",
              "       width=\"24px\">\n",
              "    <path d=\"M0 0h24v24H0V0z\" fill=\"none\"/>\n",
              "    <path d=\"M18.56 5.44l.94 2.06.94-2.06 2.06-.94-2.06-.94-.94-2.06-.94 2.06-2.06.94zm-11 1L8.5 8.5l.94-2.06 2.06-.94-2.06-.94L8.5 2.5l-.94 2.06-2.06.94zm10 10l.94 2.06.94-2.06 2.06-.94-2.06-.94-.94-2.06-.94 2.06-2.06.94z\"/><path d=\"M17.41 7.96l-1.37-1.37c-.4-.4-.92-.59-1.43-.59-.52 0-1.04.2-1.43.59L10.3 9.45l-7.72 7.72c-.78.78-.78 2.05 0 2.83L4 21.41c.39.39.9.59 1.41.59.51 0 1.02-.2 1.41-.59l7.78-7.78 2.81-2.81c.8-.78.8-2.07 0-2.86zM5.41 20L4 18.59l7.72-7.72 1.47 1.35L5.41 20z\"/>\n",
              "  </svg>\n",
              "      </button>\n",
              "      \n",
              "  <style>\n",
              "    .colab-df-container {\n",
              "      display:flex;\n",
              "      flex-wrap:wrap;\n",
              "      gap: 12px;\n",
              "    }\n",
              "\n",
              "    .colab-df-convert {\n",
              "      background-color: #E8F0FE;\n",
              "      border: none;\n",
              "      border-radius: 50%;\n",
              "      cursor: pointer;\n",
              "      display: none;\n",
              "      fill: #1967D2;\n",
              "      height: 32px;\n",
              "      padding: 0 0 0 0;\n",
              "      width: 32px;\n",
              "    }\n",
              "\n",
              "    .colab-df-convert:hover {\n",
              "      background-color: #E2EBFA;\n",
              "      box-shadow: 0px 1px 2px rgba(60, 64, 67, 0.3), 0px 1px 3px 1px rgba(60, 64, 67, 0.15);\n",
              "      fill: #174EA6;\n",
              "    }\n",
              "\n",
              "    [theme=dark] .colab-df-convert {\n",
              "      background-color: #3B4455;\n",
              "      fill: #D2E3FC;\n",
              "    }\n",
              "\n",
              "    [theme=dark] .colab-df-convert:hover {\n",
              "      background-color: #434B5C;\n",
              "      box-shadow: 0px 1px 3px 1px rgba(0, 0, 0, 0.15);\n",
              "      filter: drop-shadow(0px 1px 2px rgba(0, 0, 0, 0.3));\n",
              "      fill: #FFFFFF;\n",
              "    }\n",
              "  </style>\n",
              "\n",
              "      <script>\n",
              "        const buttonEl =\n",
              "          document.querySelector('#df-26ac6724-835c-4271-892d-52535acd5901 button.colab-df-convert');\n",
              "        buttonEl.style.display =\n",
              "          google.colab.kernel.accessAllowed ? 'block' : 'none';\n",
              "\n",
              "        async function convertToInteractive(key) {\n",
              "          const element = document.querySelector('#df-26ac6724-835c-4271-892d-52535acd5901');\n",
              "          const dataTable =\n",
              "            await google.colab.kernel.invokeFunction('convertToInteractive',\n",
              "                                                     [key], {});\n",
              "          if (!dataTable) return;\n",
              "\n",
              "          const docLinkHtml = 'Like what you see? Visit the ' +\n",
              "            '<a target=\"_blank\" href=https://colab.research.google.com/notebooks/data_table.ipynb>data table notebook</a>'\n",
              "            + ' to learn more about interactive tables.';\n",
              "          element.innerHTML = '';\n",
              "          dataTable['output_type'] = 'display_data';\n",
              "          await google.colab.output.renderOutput(dataTable, element);\n",
              "          const docLink = document.createElement('div');\n",
              "          docLink.innerHTML = docLinkHtml;\n",
              "          element.appendChild(docLink);\n",
              "        }\n",
              "      </script>\n",
              "    </div>\n",
              "  </div>\n",
              "  "
            ],
            "text/plain": [
              "    X1(kloc)        X2  effort\n",
              "0      3.030    28.000   7.686\n",
              "1      3.040    32.000   7.713\n",
              "2      4.000    34.000  10.289\n",
              "3      6.010    80.000  15.777\n",
              "4      6.096    65.000  16.014\n",
              "5      1.989    23.000   4.941\n",
              "6      1.673    11.000   4.120\n",
              "7      6.940    74.000  18.350\n",
              "8      3.096  1460.000   7.862\n",
              "9      5.011   605.000  13.036\n",
              "10    15.080   688.000  41.451\n",
              "11    10.380   215.000  28.004\n",
              "12     4.007   255.000  10.308\n",
              "13     6.023   462.000  15.813\n",
              "14    10.380   448.000  28.004\n",
              "15     6.125   776.000  16.094\n",
              "16     6.998   200.000  18.511\n",
              "17     2.986   132.000   7.569\n",
              "18    17.025    36.000  47.082\n",
              "19    10.205   770.000  27.508\n",
              "20    25.589   140.000  72.222\n",
              "21     8.798   810.000  23.540\n",
              "22     8.007   450.000  21.323\n",
              "23     4.022   635.000  10.348\n",
              "24    15.714   150.000   5.987\n",
              "25    27.678    41.060  10.265\n",
              "26    14.619    22.356   5.589\n",
              "27    18.672    28.224   7.056\n",
              "28    48.910    70.616  17.654\n",
              "29    46.115    66.768  16.692\n",
              "30    54.463    78.232  19.558\n",
              "31    25.680    38.232   9.558\n",
              "32     3.851     6.276   1.569\n",
              "33    25.054   165.000   9.336"
            ]
          },
          "metadata": {},
          "execution_count": 3
        }
      ]
    },
    {
      "metadata": {
        "id": "Ip2EQ_PGoQJO",
        "colab": {
          "base_uri": "https://localhost:8080/"
        },
        "outputId": "da5e03f0-39d4-4363-d1d5-36f7824a7456"
      },
      "cell_type": "code",
      "source": [
        "data.shape"
      ],
      "execution_count": 5,
      "outputs": [
        {
          "output_type": "execute_result",
          "data": {
            "text/plain": [
              "(34, 3)"
            ]
          },
          "metadata": {},
          "execution_count": 5
        }
      ]
    },
    {
      "metadata": {
        "id": "ydBEcRFeiDtS"
      },
      "cell_type": "markdown",
      "source": [
        "### Normalize Data"
      ]
    },
    {
      "metadata": {
        "id": "y1BwuHufiHJ_"
      },
      "cell_type": "code",
      "source": [
        "data = normalize(data, axis=0)"
      ],
      "execution_count": 4,
      "outputs": []
    },
    {
      "metadata": {
        "id": "8rMv-L53odN5"
      },
      "cell_type": "markdown",
      "source": [
        "### Seperate Data into X and Y"
      ]
    },
    {
      "metadata": {
        "id": "uop_AFQSolHl"
      },
      "cell_type": "code",
      "source": [
        "X = data[:, 0:2]\n",
        "Y = data[:, 2:]"
      ],
      "execution_count": 6,
      "outputs": []
    },
    {
      "metadata": {
        "id": "wPSTKDAXpLAN"
      },
      "cell_type": "markdown",
      "source": [
        "### Visualize the Data"
      ]
    },
    {
      "metadata": {
        "id": "eqSVKtKBWv9-",
        "colab": {
          "base_uri": "https://localhost:8080/",
          "height": 248
        },
        "outputId": "e959b280-4822-4246-9465-639ab4b77789"
      },
      "cell_type": "code",
      "source": [
        "# Fixing random state for reproducibility\n",
        "np.random.seed(19680801)\n",
        "\n",
        "fig = plt.figure()\n",
        "ax = fig.add_subplot(111, projection='3d')\n",
        "\n",
        "xs = X[:, 0]\n",
        "ys = X[:, 1]\n",
        "zs = Y\n",
        "ax.scatter(xs, ys, zs)\n",
        "\n",
        "ax.set_xlabel('kloc')\n",
        "ax.set_ylabel('x2')\n",
        "ax.set_zlabel('effort')\n",
        "\n",
        "plt.show()"
      ],
      "execution_count": 8,
      "outputs": [
        {
          "output_type": "display_data",
          "data": {
            "image/png": "[encoded data removed]",
            "text/plain": [
              "<Figure size 432x288 with 1 Axes>"
            ]
          },
          "metadata": {
            "needs_background": "light"
          }
        }
      ]
    },
    {
      "metadata": {
        "id": "Yrjucdifq_mt"
      },
      "cell_type": "markdown",
      "source": [
        "### Hyperparameters"
      ]
    },
    {
      "metadata": {
        "id": "OwVfkk3RrC_I"
      },
      "cell_type": "code",
      "source": [
        "learning_rate = 0.09\n",
        "max_iteration = 500"
      ],
      "execution_count": 9,
      "outputs": []
    },
    {
      "metadata": {
        "id": "RSXPA9L25UGl"
      },
      "cell_type": "code",
      "source": [
        "s_learning_rate = 0.06\n",
        "s_max_iteration = 500"
      ],
      "execution_count": 10,
      "outputs": []
    },
    {
      "metadata": {
        "id": "IeY-_RqF5V5v"
      },
      "cell_type": "code",
      "source": [
        "\n",
        "mb_learning_rate = 0.09\n",
        "mb_max_iteration = 500\n",
        "batch_size = 16"
      ],
      "execution_count": 11,
      "outputs": []
    },
    {
      "metadata": {
        "id": "EzXaG70OrZtn"
      },
      "cell_type": "markdown",
      "source": [
        "### Parameters"
      ]
    },
    {
      "metadata": {
        "id": "2INJM9AIrcBu"
      },
      "cell_type": "code",
      "source": [
        "theta = np.zeros((data.shape[1], 1))\n",
        "s_theta = np.zeros((data.shape[1], 1))\n",
        "mb_theta = np.zeros((data.shape[1], 1))"
      ],
      "execution_count": 12,
      "outputs": []
    },
    {
      "metadata": {
        "id": "FPt2eKjBr1Lx"
      },
      "cell_type": "markdown",
      "source": [
        "### Hypothesis"
      ]
    },
    {
      "metadata": {
        "id": "enVE4tHWsBBF"
      },
      "cell_type": "code",
      "source": [
        "def h (theta, X) :\n",
        "  tempX = np.ones((X.shape[0], X.shape[1] + 1))\n",
        "  tempX[:,1:] = X\n",
        "  return np.matmul(tempX, theta)"
      ],
      "execution_count": 13,
      "outputs": []
    },
    {
      "metadata": {
        "id": "IA9I6vaXs7nb"
      },
      "cell_type": "markdown",
      "source": [
        "### Loss Function"
      ]
    },
    {
      "metadata": {
        "id": "3KOQVUjBs-Ub"
      },
      "cell_type": "code",
      "source": [
        "def loss (theta, X, Y) :\n",
        "  return np.average(np.square(Y - h(theta, X))) / 2"
      ],
      "execution_count": 14,
      "outputs": []
    },
    {
      "metadata": {
        "id": "7TE79NG-tyLG"
      },
      "cell_type": "markdown",
      "source": [
        "### Calculate Gradients"
      ]
    },
    {
      "metadata": {
        "id": "yy9yxye4t0BJ"
      },
      "cell_type": "code",
      "source": [
        "def gradient (theta, X, Y) :\n",
        "  tempX = np.ones((X.shape[0], X.shape[1] + 1))\n",
        "  tempX[:,1:] = X\n",
        "  d_theta = - np.average((Y - h(theta, X)) * tempX, axis= 0)\n",
        "  d_theta = d_theta.reshape((d_theta.shape[0], 1))\n",
        "  return d_theta"
      ],
      "execution_count": 15,
      "outputs": []
    },
    {
      "metadata": {
        "id": "jVo5TbKyu9KL"
      },
      "cell_type": "markdown",
      "source": [
        "### Batch Gradient Descent"
      ]
    },
    {
      "metadata": {
        "id": "fprg4-tcu-4v"
      },
      "cell_type": "code",
      "source": [
        "def gradient_descent (theta, X, Y, learning_rate, max_iteration, gap) :\n",
        "  cost = np.zeros(max_iteration)\n",
        "  for i in range(max_iteration) :\n",
        "    d_theta = gradient (theta, X, Y)\n",
        "    theta = theta - learning_rate * d_theta\n",
        "    cost[i] = loss(theta, X, Y)\n",
        "    if i % gap == 0 :\n",
        "      print ('iteration : ', i, ' loss : ', loss(theta, X, Y)) \n",
        "  return theta, cost"
      ],
      "execution_count": 16,
      "outputs": []
    },
    {
      "metadata": {
        "id": "Si5f2m-9-krz"
      },
      "cell_type": "markdown",
      "source": [
        "### Mini-Batch Gradient Descent"
      ]
    },
    {
      "metadata": {
        "id": "kCGUklWXyov-"
      },
      "cell_type": "code",
      "source": [
        "def minibatch_gradient_descent (theta, X, Y, learning_rate, max_iteration, batch_size, gap) :\n",
        "  cost = np.zeros(max_iteration)\n",
        "  for i in range(max_iteration) :\n",
        "    for j in range(0, X.shape[0], batch_size):\n",
        "      d_theta = gradient (theta, X[j:j+batch_size,:], Y[j:j+batch_size,:])\n",
        "      theta = theta - learning_rate * d_theta\n",
        "    \n",
        "    cost[i] = loss(theta, X, Y)\n",
        "    if i % gap == 0 :\n",
        "      print ('iteration : ', i, ' loss : ', loss(theta, X, Y)) \n",
        "  return theta, cost"
      ],
      "execution_count": 17,
      "outputs": []
    },
    {
      "metadata": {
        "id": "epWfjT9R-sk3"
      },
      "cell_type": "markdown",
      "source": [
        "### Stochastic Gradient Descent"
      ]
    },
    {
      "metadata": {
        "id": "cWDNv4BkvpvQ"
      },
      "cell_type": "code",
      "source": [
        "def stochastic_gradient_descent (theta, X, Y, learning_rate, max_iteration, gap) :\n",
        "  cost = np.zeros(max_iteration)\n",
        "  for i in range(max_iteration) :\n",
        "    for j in range(X.shape[0]):\n",
        "      d_theta = gradient (theta, X[j,:].reshape(1, X.shape[1]), Y[j,:].reshape(1, 1))\n",
        "      theta = theta - learning_rate * d_theta\n",
        "    \n",
        "    cost[i] = loss(theta, X, Y)\n",
        "    if i % gap == 0 :\n",
        "      print ('iteration : ', i, ' loss : ', loss(theta, X, Y)) \n",
        "  return theta, cost"
      ],
      "execution_count": 18,
      "outputs": []
    },
    {
      "metadata": {
        "id": "uMIZFxUhwQZO"
      },
      "cell_type": "markdown",
      "source": [
        "### Train Model"
      ]
    },
    {
      "metadata": {
        "id": "-0okDGSCwUC7",
        "colab": {
          "base_uri": "https://localhost:8080/"
        },
        "outputId": "d2f7a06c-bc29-4e24-845b-352bc9a06cf1"
      },
      "cell_type": "code",
      "source": [
        "theta, cost = gradient_descent (theta, X, Y, learning_rate, max_iteration, 100)"
      ],
      "execution_count": 19,
      "outputs": [
        {
          "output_type": "stream",
          "name": "stdout",
          "text": [
            "iteration :  0  loss :  0.013138281523074965\n",
            "iteration :  100  loss :  0.005729698450707094\n",
            "iteration :  200  loss :  0.005659126136354402\n",
            "iteration :  300  loss :  0.005601781104481734\n",
            "iteration :  400  loss :  0.0055551737672922\n"
          ]
        }
      ]
    },
    {
      "metadata": {
        "id": "YBJreRDKwtvI",
        "colab": {
          "base_uri": "https://localhost:8080/",
          "height": 102
        },
        "outputId": "d2dabd16-bd9f-4e84-959e-a0e7dcf223ac"
      },
      "cell_type": "code",
      "source": [
        "s_theta, s_cost = stochastic_gradient_descent (s_theta, X, Y, s_learning_rate, s_max_iteration, 100)"
      ],
      "execution_count": null,
      "outputs": [
        {
          "output_type": "stream",
          "text": [
            "iteration :  0  loss :  0.00124239448086184\n",
            "iteration :  100  loss :  0.0005009080256472754\n",
            "iteration :  200  loss :  0.000383709633489583\n",
            "iteration :  300  loss :  0.000358457717586344\n",
            "iteration :  400  loss :  0.0003497048974276734\n"
          ],
          "name": "stdout"
        }
      ]
    },
    {
      "metadata": {
        "id": "viSuvODWza-1",
        "colab": {
          "base_uri": "https://localhost:8080/",
          "height": 102
        },
        "outputId": "5754576e-834c-410c-dcec-0f550e085a55"
      },
      "cell_type": "code",
      "source": [
        "mb_theta, mb_cost = minibatch_gradient_descent (mb_theta, X, Y, mb_learning_rate, mb_max_iteration, batch_size, 100)"
      ],
      "execution_count": null,
      "outputs": [
        {
          "output_type": "stream",
          "text": [
            "iteration :  0  loss :  0.006440267374919575\n",
            "iteration :  100  loss :  0.001057469055029178\n",
            "iteration :  200  loss :  0.0009493292161679231\n",
            "iteration :  300  loss :  0.0008581038563838422\n",
            "iteration :  400  loss :  0.000781114138803193\n"
          ],
          "name": "stdout"
        }
      ]
    },
    {
      "metadata": {
        "id": "MFp2MUlexVd5"
      },
      "cell_type": "markdown",
      "source": [
        "### Optimal values of Parameters using Trained Model"
      ]
    },
    {
      "metadata": {
        "id": "tcMQWkuvwYu7",
        "colab": {
          "base_uri": "https://localhost:8080/"
        },
        "outputId": "857e7bd0-0b3d-4bba-eff1-db46b11c0406"
      },
      "cell_type": "code",
      "source": [
        "theta"
      ],
      "execution_count": 21,
      "outputs": [
        {
          "output_type": "execute_result",
          "data": {
            "text/plain": [
              "array([[0.11159867],\n",
              "       [0.11380209],\n",
              "       [0.07153138]])"
            ]
          },
          "metadata": {},
          "execution_count": 21
        }
      ]
    },
    {
      "metadata": {
        "id": "Orub1Wgdx0yc",
        "colab": {
          "base_uri": "https://localhost:8080/"
        },
        "outputId": "1d6ee00b-6e13-42fa-915b-3911b6b92a84"
      },
      "cell_type": "code",
      "source": [
        "s_theta"
      ],
      "execution_count": 22,
      "outputs": [
        {
          "output_type": "execute_result",
          "data": {
            "text/plain": [
              "array([[0.],\n",
              "       [0.],\n",
              "       [0.]])"
            ]
          },
          "metadata": {},
          "execution_count": 22
        }
      ]
    },
    {
      "metadata": {
        "id": "TBrs3crW55Ka",
        "colab": {
          "base_uri": "https://localhost:8080/"
        },
        "outputId": "cdd0a197-aa7e-4929-d008-40f691e5b497"
      },
      "cell_type": "code",
      "source": [
        "mb_theta"
      ],
      "execution_count": 23,
      "outputs": [
        {
          "output_type": "execute_result",
          "data": {
            "text/plain": [
              "array([[0.],\n",
              "       [0.],\n",
              "       [0.]])"
            ]
          },
          "metadata": {},
          "execution_count": 23
        }
      ]
    },
    {
      "metadata": {
        "id": "Pi99RMws736c"
      },
      "cell_type": "markdown",
      "source": [
        "### Cost vs Iteration Plots"
      ]
    },
    {
      "metadata": {
        "id": "SvzRaqIQ78Pl",
        "colab": {
          "base_uri": "https://localhost:8080/",
          "height": 501
        },
        "outputId": "77053c52-8c32-41d3-85f6-033fc7e7d90a"
      },
      "cell_type": "code",
      "source": [
        "#plot the cost\n",
        "fig, ax = plt.subplots()  \n",
        "ax.plot(np.arange(max_iteration), cost, 'r')  \n",
        "ax.plot(np.arange(max_iteration), s_cost, 'b')  \n",
        "ax.plot(np.arange(max_iteration), mb_cost, 'g')  \n",
        "ax.legend(loc='upper right', labels=['batch gradient descent', 'stochastic gradient descent', 'mini-batch gradient descent'])\n",
        "ax.set_xlabel('Iterations')  \n",
        "ax.set_ylabel('Cost')  \n",
        "ax.set_title('Error vs. Training Epoch')  \n",
        "\n",
        "plt.show()"
      ],
      "execution_count": 20,
      "outputs": [
        {
          "output_type": "error",
          "ename": "NameError",
          "evalue": "ignored",
          "traceback": [
            "\u001b[0;31m---------------------------------------------------------------------------\u001b[0m",
            "\u001b[0;31mNameError\u001b[0m                                 Traceback (most recent call last)",
            "\u001b[0;32m<ipython-input-20-7293bd191b55>\u001b[0m in \u001b[0;36m<module>\u001b[0;34m()\u001b[0m\n\u001b[1;32m      2\u001b[0m \u001b[0mfig\u001b[0m\u001b[0;34m,\u001b[0m \u001b[0max\u001b[0m \u001b[0;34m=\u001b[0m \u001b[0mplt\u001b[0m\u001b[0;34m.\u001b[0m\u001b[0msubplots\u001b[0m\u001b[0;34m(\u001b[0m\u001b[0;34m)\u001b[0m\u001b[0;34m\u001b[0m\u001b[0;34m\u001b[0m\u001b[0m\n\u001b[1;32m      3\u001b[0m \u001b[0max\u001b[0m\u001b[0;34m.\u001b[0m\u001b[0mplot\u001b[0m\u001b[0;34m(\u001b[0m\u001b[0mnp\u001b[0m\u001b[0;34m.\u001b[0m\u001b[0marange\u001b[0m\u001b[0;34m(\u001b[0m\u001b[0mmax_iteration\u001b[0m\u001b[0;34m)\u001b[0m\u001b[0;34m,\u001b[0m \u001b[0mcost\u001b[0m\u001b[0;34m,\u001b[0m \u001b[0;34m'r'\u001b[0m\u001b[0;34m)\u001b[0m\u001b[0;34m\u001b[0m\u001b[0;34m\u001b[0m\u001b[0m\n\u001b[0;32m----> 4\u001b[0;31m \u001b[0max\u001b[0m\u001b[0;34m.\u001b[0m\u001b[0mplot\u001b[0m\u001b[0;34m(\u001b[0m\u001b[0mnp\u001b[0m\u001b[0;34m.\u001b[0m\u001b[0marange\u001b[0m\u001b[0;34m(\u001b[0m\u001b[0mmax_iteration\u001b[0m\u001b[0;34m)\u001b[0m\u001b[0;34m,\u001b[0m \u001b[0ms_cost\u001b[0m\u001b[0;34m,\u001b[0m \u001b[0;34m'b'\u001b[0m\u001b[0;34m)\u001b[0m\u001b[0;34m\u001b[0m\u001b[0;34m\u001b[0m\u001b[0m\n\u001b[0m\u001b[1;32m      5\u001b[0m \u001b[0max\u001b[0m\u001b[0;34m.\u001b[0m\u001b[0mplot\u001b[0m\u001b[0;34m(\u001b[0m\u001b[0mnp\u001b[0m\u001b[0;34m.\u001b[0m\u001b[0marange\u001b[0m\u001b[0;34m(\u001b[0m\u001b[0mmax_iteration\u001b[0m\u001b[0;34m)\u001b[0m\u001b[0;34m,\u001b[0m \u001b[0mmb_cost\u001b[0m\u001b[0;34m,\u001b[0m \u001b[0;34m'g'\u001b[0m\u001b[0;34m)\u001b[0m\u001b[0;34m\u001b[0m\u001b[0;34m\u001b[0m\u001b[0m\n\u001b[1;32m      6\u001b[0m \u001b[0max\u001b[0m\u001b[0;34m.\u001b[0m\u001b[0mlegend\u001b[0m\u001b[0;34m(\u001b[0m\u001b[0mloc\u001b[0m\u001b[0;34m=\u001b[0m\u001b[0;34m'upper right'\u001b[0m\u001b[0;34m,\u001b[0m \u001b[0mlabels\u001b[0m\u001b[0;34m=\u001b[0m\u001b[0;34m[\u001b[0m\u001b[0;34m'batch gradient descent'\u001b[0m\u001b[0;34m,\u001b[0m \u001b[0;34m'stochastic gradient descent'\u001b[0m\u001b[0;34m,\u001b[0m \u001b[0;34m'mini-batch gradient descent'\u001b[0m\u001b[0;34m]\u001b[0m\u001b[0;34m)\u001b[0m\u001b[0;34m\u001b[0m\u001b[0;34m\u001b[0m\u001b[0m\n",
            "\u001b[0;31mNameError\u001b[0m: name 's_cost' is not defined"
          ]
        },
        {
          "output_type": "display_data",
          "data": {
            "image/png": "[encoded data removed]",
            "text/plain": [
              "<Figure size 432x288 with 1 Axes>"
            ]
          },
          "metadata": {
            "needs_background": "light"
          }
        }
      ]
    },
    {
      "metadata": {
        "id": "Dh6PmQOwxcKk"
      },
      "cell_type": "markdown",
      "source": [
        "### Visualize the Data"
      ]
    },
    {
      "metadata": {
        "id": "B0h7MJE0xcKo",
        "colab": {
          "base_uri": "https://localhost:8080/",
          "height": 248
        },
        "outputId": "394452f6-0a9e-4a56-e985-fc22b5888fa3"
      },
      "cell_type": "code",
      "source": [
        "# Fixing random state for reproducibility\n",
        "# np.random.seed(19680801)\n",
        "\n",
        "fig = plt.figure()\n",
        "ax = fig.add_subplot(111, projection='3d')\n",
        "\n",
        "xs = X[:, 0]\n",
        "ys = X[:, 1]\n",
        "zs = Y\n",
        "ax.scatter(xs, ys, zs)\n",
        "\n",
        "ax.set_xlabel('kloc')\n",
        "ax.set_ylabel('x2')\n",
        "ax.set_zlabel('effort')\n",
        "\n",
        "x = y = np.arange(0, 0.3, 0.05)\n",
        "xp, yp = np.meshgrid(x, y)\n",
        "z = np.array([h(theta, np.array([[x,y]]))[0, 0] for x,y in zip(np.ravel(xp), np.ravel(yp))])\n",
        "zp = z.reshape(xp.shape)\n",
        "\n",
        "ax.plot_surface(xp, yp, zp, alpha=0.7)\n",
        "    \n",
        "plt.show()"
      ],
      "execution_count": 25,
      "outputs": [
        {
          "output_type": "display_data",
          "data": {
            "image/png": "[encoded data removed]",
            "text/plain": [
              "<Figure size 432x288 with 1 Axes>"
            ]
          },
          "metadata": {
            "needs_background": "light"
          }
        }
      ]
    },
    {
      "metadata": {
        "id": "GoZITHpln8TK",
        "colab": {
          "base_uri": "https://localhost:8080/",
          "height": 248
        },
        "outputId": "19e64866-7a79-4e1c-9ed6-7733ad7700b6"
      },
      "cell_type": "code",
      "source": [
        "# Fixing random state for reproducibility\n",
        "# np.random.seed(19680801)\n",
        "\n",
        "fig = plt.figure()\n",
        "ax = fig.add_subplot(111, projection='3d')\n",
        "\n",
        "xs = X[:, 0]\n",
        "ys = X[:, 1]\n",
        "zs = Y\n",
        "ax.scatter(xs, ys, zs)\n",
        "\n",
        "ax.set_xlabel('kloc')\n",
        "ax.set_ylabel('complexity')\n",
        "ax.set_zlabel('effort')\n",
        "\n",
        "x = y = np.arange(0, 0.3, 0.05)\n",
        "xp, yp = np.meshgrid(x, y)\n",
        "z = np.array([h(s_theta, np.array([[x,y]]))[0, 0] for x,y in zip(np.ravel(xp), np.ravel(yp))])\n",
        "zp = z.reshape(xp.shape)\n",
        "\n",
        "ax.plot_surface(xp, yp, zp, alpha=0.7)\n",
        "    \n",
        "plt.show()"
      ],
      "execution_count": 26,
      "outputs": [
        {
          "output_type": "display_data",
          "data": {
            "image/png": "[encoded data removed]",
            "text/plain": [
              "<Figure size 432x288 with 1 Axes>"
            ]
          },
          "metadata": {
            "needs_background": "light"
          }
        }
      ]
    },
    {
      "metadata": {
        "id": "KUTo6lsyx_Uv",
        "colab": {
          "base_uri": "https://localhost:8080/",
          "height": 248
        },
        "outputId": "d5b7dc85-d3f8-4e94-fb33-e2533f1374f5"
      },
      "cell_type": "code",
      "source": [
        "# Fixing random state for reproducibility\n",
        "# np.random.seed(19680801)\n",
        "\n",
        "fig = plt.figure()\n",
        "ax = fig.add_subplot(111, projection='3d')\n",
        "\n",
        "x = y = np.arange(0, 0.3, 0.05)\n",
        "xp, yp = np.meshgrid(x, y)\n",
        "z = np.array([h(mb_theta, np.array([[x,y]]))[0, 0] for x,y in zip(np.ravel(xp), np.ravel(yp))])\n",
        "zp = z.reshape(xp.shape)\n",
        "ax.plot_surface(xp, yp, zp, alpha=0.7)\n",
        "\n",
        "xs = X[:, 0]\n",
        "ys = X[:, 1]\n",
        "zs = Y\n",
        "ax.scatter(xs, ys, zs)\n",
        "\n",
        "\n",
        "ax.set_xlabel('kloc')\n",
        "ax.set_ylabel('x2')\n",
        "ax.set_zlabel('effort')\n",
        "    \n",
        "plt.show()"
      ],
      "execution_count": 28,
      "outputs": [
        {
          "output_type": "display_data",
          "data": {
            "image/png": "[encoded data removed]",
            "text/plain": [
              "<Figure size 432x288 with 1 Axes>"
            ]
          },
          "metadata": {
            "needs_background": "light"
          }
        }
      ]
    },
    {
      "metadata": {
        "id": "vxLme6Nz6BOd"
      },
      "cell_type": "code",
      "source": [
        ""
      ],
      "execution_count": null,
      "outputs": []
    }
  ]
}